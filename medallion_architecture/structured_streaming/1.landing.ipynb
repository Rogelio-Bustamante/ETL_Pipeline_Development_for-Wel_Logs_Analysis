{
 "cells": [
  {
   "cell_type": "markdown",
   "metadata": {
    "application/vnd.databricks.v1+cell": {
     "cellMetadata": {},
     "inputWidgets": {},
     "nuid": "74976c81-8e49-41ac-9822-b62461e715f5",
     "showTitle": false,
     "tableResultSettingsMap": {},
     "title": ""
    }
   },
   "source": [
    "####Converting dataset volumes in tables into bronze using streaming and DLT to make NRT flow (Ingest raw data into bronze -still raw-)\n"
   ]
  },
  {
   "cell_type": "code",
   "execution_count": 0,
   "metadata": {
    "application/vnd.databricks.v1+cell": {
     "cellMetadata": {
      "byteLimit": 2048000,
      "rowLimit": 10000
     },
     "inputWidgets": {},
     "nuid": "c5895a68-9dec-47db-a78d-7b801ae5890c",
     "showTitle": false,
     "tableResultSettingsMap": {},
     "title": ""
    }
   },
   "outputs": [],
   "source": [
    "from pyspark.sql.functions import *"
   ]
  },
  {
   "cell_type": "code",
   "execution_count": 0,
   "metadata": {
    "application/vnd.databricks.v1+cell": {
     "cellMetadata": {
      "byteLimit": 2048000,
      "rowLimit": 10000
     },
     "inputWidgets": {},
     "nuid": "4ff43208-28c9-4fc4-b50d-ab09bbcfd26b",
     "showTitle": false,
     "tableResultSettingsMap": {},
     "title": ""
    }
   },
   "outputs": [],
   "source": [
    "volume_path = \"/Volumes/well_logs_nrt/landing/json_files_volume/\"\n",
    "schema_path = \"/Volumes/well_logs_nrt/autoloader/schemas_volume/all_wells_bronze_schema\"\n",
    "checkpoints_path = \"/Volumes/well_logs_nrt/autoloader/checkpoints_volume/all_wells_bronze_checkpoints\"\n",
    "output_path = \"/Volumes/well_logs_nrt/bronze/deltalake_folders_volume/all_wells_bronze\"\n",
    "\n",
    "df = (spark.readStream.format(\"cloudFiles\")\n",
    "      .option(\"cloudFiles.format\", \"json\")\n",
    "      .option(\"cloudFiles.inferColumnTypes\", \"true\")\n",
    "      .option(\"cloudFiles.schemaLocation\", schema_path)\n",
    "      .option(\"cloudFiles.schemaEvolutionMode\", \"addNewColumns\") # In case that appears new columns in the log\n",
    "      .load(volume_path)\n",
    "      .withColumn(\"bronze_ingestion_time\", current_timestamp())\n",
    "      .withColumn(\"file_mod_time\", col(\"_metadata.file_modification_time\")) # useful for audit\n",
    ")\n",
    "\n",
    "df.writeStream.format(\"delta\") \\\n",
    "  .option(\"checkpointLocation\", checkpoints_path) \\\n",
    "  .option(\"mergeSchema\", \"true\") \\\n",
    "  .outputMode(\"append\") \\\n",
    "  .trigger(once=True) \\\n",
    "  .start(output_path)"
   ]
  },
  {
   "cell_type": "code",
   "execution_count": 0,
   "metadata": {
    "application/vnd.databricks.v1+cell": {
     "cellMetadata": {},
     "inputWidgets": {},
     "nuid": "17036af8-160c-48b6-b66b-80295e41ebb9",
     "showTitle": false,
     "tableResultSettingsMap": {},
     "title": ""
    }
   },
   "outputs": [],
   "source": [
    "display(spark.read.format(\"delta\").load(\"/Volumes/well_logs_nrt/bronze/deltalake_folders_volume/all_wells_bronze\"))"
   ]
  }
 ],
 "metadata": {
  "application/vnd.databricks.v1+notebook": {
   "computePreferences": null,
   "dashboards": [],
   "environmentMetadata": {
    "base_environment": "",
    "environment_version": "2"
   },
   "inputWidgetPreferences": null,
   "language": "python",
   "notebookMetadata": {
    "mostRecentlyExecutedCommandWithImplicitDF": {
     "commandId": 4365230286368400,
     "dataframes": [
      "_sqldf"
     ]
    },
    "pythonIndentUnit": 4
   },
   "notebookName": "1.landing",
   "widgets": {}
  },
  "language_info": {
   "name": "python"
  }
 },
 "nbformat": 4,
 "nbformat_minor": 0
}
