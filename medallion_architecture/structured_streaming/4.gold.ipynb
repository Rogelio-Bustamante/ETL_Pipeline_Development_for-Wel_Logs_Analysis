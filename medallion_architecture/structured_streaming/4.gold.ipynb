{
 "cells": [
  {
   "cell_type": "code",
   "execution_count": 0,
   "metadata": {
    "application/vnd.databricks.v1+cell": {
     "cellMetadata": {
      "byteLimit": 2048000,
      "rowLimit": 10000
     },
     "inputWidgets": {},
     "nuid": "fdc05bf3-6d0f-4b23-ae57-587715c37664",
     "showTitle": false,
     "tableResultSettingsMap": {},
     "title": ""
    }
   },
   "outputs": [],
   "source": [
    "from pyspark.sql.functions import *\n",
    "from pyspark.sql.window import Window"
   ]
  },
  {
   "cell_type": "code",
   "execution_count": 0,
   "metadata": {
    "application/vnd.databricks.v1+cell": {
     "cellMetadata": {
      "byteLimit": 2048000,
      "rowLimit": 10000
     },
     "inputWidgets": {},
     "nuid": "87f03dd8-849b-4173-94b8-28c5419247aa",
     "showTitle": false,
     "tableResultSettingsMap": {
      "0": {
       "dataGridStateBlob": "{\"version\":1,\"tableState\":{\"columnPinning\":{\"left\":[\"#row_number#\"],\"right\":[]},\"columnSizing\":{},\"columnVisibility\":{}},\"settings\":{\"columns\":{}},\"syncTimestamp\":1754513569465}",
       "filterBlob": null,
       "queryPlanFiltersBlob": null,
       "tableResultIndex": 0
      }
     },
     "title": ""
    }
   },
   "outputs": [],
   "source": [
    "input_path = \"/Volumes/well_logs_nrt/gold/deltalake_folders_volume/all_wells_gold\"\n",
    "unpivotExpr = \"stack(16, 'GR', GR, 'ILD', ILD, 'ILM', ILM, 'CALI', CALI, 'DPHI', DPHI, 'DT', DT, 'DT2', DT2, 'NPHI', NPHI, 'RHOB', RHOB, 'SFLU', SFLU, 'SP', SP, 'TEN', TEN, 'POROSITY', POROSITY, 'Perm', PERM, 'Fluvialfacie', Fluvialfacies, 'NetGross', NetGross) as (log_name, values)\"\n",
    "\n",
    "df = spark.read.format(\"delta\").load(input_path)\n",
    "\n",
    "df_unpivoted = (\n",
    "     df.selectExpr(\"well_id\", \"DEPTH\", unpivotExpr)\n",
    ")\n",
    "\n",
    "df_cleaned = (df_unpivoted\n",
    "              .select(\"well_id\", \"DEPTH\", \"log_name\", \"values\").where((col(\"values\") != -999.25) & col(\"values\").isNotNull())\n",
    "              .orderBy(\"well_id\", \"DEPTH\", \"log_name\", ascending=[True, True, True])\n",
    ")\n",
    "\n",
    "#display(df_unpivoted)\n",
    "#display(df_unpivoted.groupBy(\"well_id\").count())\n",
    "display(df_cleaned)"
   ]
  },
  {
   "cell_type": "code",
   "execution_count": 0,
   "metadata": {
    "application/vnd.databricks.v1+cell": {
     "cellMetadata": {
      "byteLimit": 2048000,
      "rowLimit": 10000
     },
     "inputWidgets": {},
     "nuid": "c6dfd1d4-a892-47ad-b90b-f088d8e0e17a",
     "showTitle": false,
     "tableResultSettingsMap": {},
     "title": ""
    }
   },
   "outputs": [],
   "source": [
    "# Making the coresponding aggregations \n",
    "df_agg = (df_unpivoted\n",
    "         .groupBy(\"well_id\", \"log_name\")\n",
    "         .agg(\n",
    "              min(when((col(\"values\") != \"-999.25\") & col(\"values\").isNotNull(), col(\"values\"))).alias(\"min_value\"),\n",
    "              max(when((col(\"values\") != \"-999.25\") & col(\"values\").isNotNull(), col(\"values\"))).alias(\"max_value\"),\n",
    "              avg(when((col(\"values\") != \"-999.25\") & col(\"values\").isNotNull(), col(\"values\"))).alias(\"avg_value\"),\n",
    "              stddev(when((col(\"values\") != \"-999.25\") & col(\"values\").isNotNull(), col(\"values\"))).alias(\"stddev_value\"),\n",
    "              count(\"values\").alias(\"total_values_count\"),\n",
    "              count(when((col(\"values\") != \"-999.25\") & col(\"values\").isNotNull(), col(\"values\"))).alias(\"valid_values_count\"))\n",
    "         .orderBy(\"well_id\", \"log_name\", ascending=[True, True])\n",
    "         .where((col(\"total_values_count\") != 0) & (col(\"valid_values_count\") != 0))\n",
    ")\n",
    "\n",
    "# Identify the min and max valid depth from each log\n",
    "window_spec_min = Window.partitionBy(\"well_id\", \"log_name\").orderBy(col(\"DEPTH\").asc())\n",
    "window_spec_max = Window.partitionBy(\"well_id\", \"log_name\").orderBy(col(\"DEPTH\").desc())\n",
    "\n",
    "df_min_depth = (\n",
    "    df_cleaned.withColumn(\"row_num\", row_number().over(window_spec_min))\n",
    "            .where(col(\"row_num\") == 1)\n",
    "            .select(\"well_id\", \"log_name\", col(\"depth\").alias(\"min_depth_valid\"))\n",
    ")\n",
    "\n",
    "df_max_depth = (\n",
    "    df_cleaned.withColumn(\"row_num\", row_number().over(window_spec_max))\n",
    "            .where(col(\"row_num\") == 1)\n",
    "            .select(\"well_id\", \"log_name\", col(\"depth\").alias(\"max_depth_valid\"))\n",
    ")\n",
    "\n",
    "# Calculating the difference between depths to find the measurement intervals\n",
    "df_with_diff = df_cleaned.withColumn(\n",
    "    \"depth_diff\",\n",
    "    col(\"DEPTH\") - lag(\"DEPTH\", 1).over(window_spec_min)\n",
    ")\n",
    "\n",
    "# Calculating the sum between all measurement intervals to find the total valid interval\n",
    "df_valid_depth = (df_with_diff\n",
    "             .groupBy(\"well_id\", \"log_name\")\n",
    "             .agg(\n",
    "                 sum(\"depth_diff\").alias(\"valid_interval_meters\")\n",
    "             )\n",
    ")\n",
    "\n",
    "# Joining everything to make the final table\n",
    "df_final = (df_min_depth.join(df_max_depth, on=[\"well_id\", \"log_name\"], how=\"inner\")\n",
    "            .join(df_valid_depth, on=[\"well_id\", \"log_name\"], how=\"inner\")    \n",
    "            .join(df_agg, on=[\"well_id\", \"log_name\"], how=\"inner\")\n",
    ")\n",
    "\n",
    "display(df_final)"
   ]
  },
  {
   "cell_type": "code",
   "execution_count": 0,
   "metadata": {
    "application/vnd.databricks.v1+cell": {
     "cellMetadata": {
      "byteLimit": 2048000,
      "rowLimit": 10000
     },
     "inputWidgets": {},
     "nuid": "fe9a990e-de68-44be-94df-aefc5c771af6",
     "showTitle": false,
     "tableResultSettingsMap": {
      "0": {
       "dataGridStateBlob": "{\"version\":1,\"tableState\":{\"columnPinning\":{\"left\":[\"#row_number#\"],\"right\":[]},\"columnSizing\":{},\"columnVisibility\":{}},\"settings\":{\"columns\":{}},\"syncTimestamp\":1754583680731}",
       "filterBlob": null,
       "queryPlanFiltersBlob": null,
       "tableResultIndex": 0
      }
     },
     "title": ""
    }
   },
   "outputs": [],
   "source": [
    "df_gr_zonation = (df\n",
    "                  .select(\"well_id\", \"DEPTH\", \"GR\")\n",
    "                  .withColumn(\"zone_type\", when(col(\"GR\") <= 20, \"sand\")\n",
    "                                           .when((col(\"GR\") > 20) & (col(\"GR\") <=60), \"shaly Sand\")\n",
    "                                           .otherwise(\"shale\"))\n",
    "                  .orderBy(\"well_id\", \"DEPTH\", ascending=[True, True])\n",
    ")\n",
    "\n",
    "window_spec_min = Window.partitionBy(\"well_id\", \"zone_type\").orderBy(col(\"DEPTH\").asc())\n",
    "\n",
    "display(df_gr_zonation)"
   ]
  },
  {
   "cell_type": "code",
   "execution_count": 0,
   "metadata": {
    "application/vnd.databricks.v1+cell": {
     "cellMetadata": {},
     "inputWidgets": {},
     "nuid": "365b8b93-b0ff-4d78-b48a-aeefd03f324a",
     "showTitle": false,
     "tableResultSettingsMap": {},
     "title": ""
    }
   },
   "outputs": [],
   "source": [
    "df_min_depth = (\n",
    "    df_gr_zonation.withColumn(\"row_num\", row_number().over(window_spec_min))\n",
    "            .where(col(\"row_num\") == 1)\n",
    "            .select(\"well_id\", \"DEPTH\", col(\"depth\").alias(\"min_depth_valid\"))\n",
    ")\n",
    "#display(df_gr_zonation.groupBy(\"zone_type\").count())"
   ]
  }
 ],
 "metadata": {
  "application/vnd.databricks.v1+notebook": {
   "computePreferences": {
    "hardware": {
     "accelerator": null,
     "gpuPoolId": null,
     "memory": null
    }
   },
   "dashboards": [],
   "environmentMetadata": {
    "base_environment": "",
    "environment_version": "2"
   },
   "inputWidgetPreferences": null,
   "language": "python",
   "notebookMetadata": {
    "pythonIndentUnit": 4
   },
   "notebookName": "4.gold",
   "widgets": {}
  },
  "language_info": {
   "name": "python"
  }
 },
 "nbformat": 4,
 "nbformat_minor": 0
}
