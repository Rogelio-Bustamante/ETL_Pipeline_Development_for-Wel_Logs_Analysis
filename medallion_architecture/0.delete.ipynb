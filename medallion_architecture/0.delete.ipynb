{
 "cells": [
  {
   "cell_type": "code",
   "execution_count": 0,
   "metadata": {
    "application/vnd.databricks.v1+cell": {
     "cellMetadata": {
      "byteLimit": 2048000,
      "rowLimit": 10000
     },
     "inputWidgets": {},
     "nuid": "6bc6f327-d191-44d9-89c9-23bd98874532",
     "showTitle": false,
     "tableResultSettingsMap": {},
     "title": ""
    }
   },
   "outputs": [],
   "source": [
    "DROP TABLE IF EXISTS well_logs_nrt.dlt.all_wells_bronze;\n",
    "DROP TABLE IF EXISTS well_logs_nrt.dlt.all_wells_silver;\n",
    "DROP TABLE IF EXISTS well_logs_nrt.dlt.all_wells_gold;\n",
    "DROP TABLE IF EXISTS well_logs_nrt.dlt.gold_statistics_summary;\n",
    "DROP TABLE IF EXISTS well_logs_nrt.dlt.gold_unpivoted_cleaned;\n",
    "DROP TABLE IF EXISTS well_logs_nrt.dlt.gold_unpivoted_snapshot;"
   ]
  }
 ],
 "metadata": {
  "application/vnd.databricks.v1+notebook": {
   "computePreferences": null,
   "dashboards": [],
   "environmentMetadata": {
    "base_environment": "",
    "environment_version": "2"
   },
   "inputWidgetPreferences": null,
   "language": "sql",
   "notebookMetadata": {
    "pythonIndentUnit": 4
   },
   "notebookName": "0.delete",
   "widgets": {}
  },
  "language_info": {
   "name": "sql"
  }
 },
 "nbformat": 4,
 "nbformat_minor": 0
}
