{
 "cells": [
  {
   "cell_type": "markdown",
   "metadata": {
    "application/vnd.databricks.v1+cell": {
     "cellMetadata": {},
     "inputWidgets": {},
     "nuid": "7f9dde56-cddf-43ff-91f1-6e7b205e122e",
     "showTitle": false,
     "tableResultSettingsMap": {},
     "title": ""
    }
   },
   "source": [
    "#### Data cleaning and validations (silver to gold)"
   ]
  },
  {
   "cell_type": "code",
   "execution_count": 0,
   "metadata": {
    "application/vnd.databricks.v1+cell": {
     "cellMetadata": {
      "byteLimit": 2048000,
      "rowLimit": 10000
     },
     "inputWidgets": {},
     "nuid": "fdc05bf3-6d0f-4b23-ae57-587715c37664",
     "showTitle": false,
     "tableResultSettingsMap": {},
     "title": ""
    }
   },
   "outputs": [],
   "source": [
    "from pyspark.sql.functions import *\n",
    "from pyspark.sql.window import Window\n",
    "import dlt"
   ]
  },
  {
   "cell_type": "code",
   "execution_count": 0,
   "metadata": {
    "application/vnd.databricks.v1+cell": {
     "cellMetadata": {
      "byteLimit": 2048000,
      "rowLimit": 10000
     },
     "inputWidgets": {},
     "nuid": "1e985fac-ed26-4295-932a-35db6b2d072c",
     "showTitle": false,
     "tableResultSettingsMap": {},
     "title": ""
    }
   },
   "outputs": [],
   "source": [
    "@dlt.expect(\"has_well_id\", \"well_id IS NOT NULL\")\n",
    "@dlt.expect_or_drop(\"valid_depth\", \"DEPTH >= 0\")\n",
    "#@dlt.expect_or_drop(\"no_duplicates\", \"ROW_NUMBER() OVER (PARTITION BY measurement_time ORDER BY well_id) = 1\")\n",
    "@dlt.table(\n",
    "    name = \"all_wells_gold\",\n",
    "    comment = \"Table that contains all wells in gold layer\",\n",
    "    partition_cols = [\"well_id\"],\n",
    "    table_properties = {\n",
    "        #\"delta.partitionColumns\": \"well_id\",\n",
    "        \"layer\" : \"gold\", \n",
    "        \"type\" : \"well log\"\n",
    "        }\n",
    ")\n",
    "\n",
    "def incremental_to_gold():\n",
    "  df = dlt.read_stream(\"all_wells_silver\")\n",
    "\n",
    "  # Data cleaning\n",
    "  \n",
    "  df_cleaned = (df.filter(col(\"well_id\").isNotNull()) \n",
    "              # .filter(col(\"DEPTH\") >= 0)\n",
    "              .dropDuplicates([\"well_id\", \"measurement_time\"])\n",
    "              .withColumn(\"gold_ingestion_time\", current_timestamp())\n",
    "              .drop(col(\"silver_ingestion_time\"), col(\"_rescued_data\"))\n",
    "  )\n",
    "  \n",
    "  #Data validations\n",
    "  return (\n",
    "      df_cleaned.withColumn(\n",
    "      \"quality_check\",\n",
    "      when((col(\"DEPTH\") >= 0), \"valid\")\n",
    "      .otherwise(\"Not passed\")\n",
    "      )\n",
    "  )"
   ]
  }
 ],
 "metadata": {
  "application/vnd.databricks.v1+notebook": {
   "computePreferences": null,
   "dashboards": [],
   "environmentMetadata": {
    "base_environment": "",
    "environment_version": "2"
   },
   "inputWidgetPreferences": null,
   "language": "python",
   "notebookMetadata": {
    "pythonIndentUnit": 4
   },
   "notebookName": "3.silver_dlt",
   "widgets": {}
  },
  "language_info": {
   "name": "python"
  }
 },
 "nbformat": 4,
 "nbformat_minor": 0
}
