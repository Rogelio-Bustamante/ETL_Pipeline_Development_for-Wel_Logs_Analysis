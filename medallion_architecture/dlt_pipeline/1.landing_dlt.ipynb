{
 "cells": [
  {
   "cell_type": "markdown",
   "metadata": {
    "application/vnd.databricks.v1+cell": {
     "cellMetadata": {},
     "inputWidgets": {},
     "nuid": "74976c81-8e49-41ac-9822-b62461e715f5",
     "showTitle": false,
     "tableResultSettingsMap": {},
     "title": ""
    }
   },
   "source": [
    "####Converting dataset volumes in tables into bronze using streaming and DLT to make NRT flow (Ingest raw data into bronze -still raw-)\n"
   ]
  },
  {
   "cell_type": "code",
   "execution_count": 0,
   "metadata": {
    "application/vnd.databricks.v1+cell": {
     "cellMetadata": {},
     "inputWidgets": {},
     "nuid": "c5895a68-9dec-47db-a78d-7b801ae5890c",
     "showTitle": false,
     "tableResultSettingsMap": {},
     "title": ""
    }
   },
   "outputs": [],
   "source": [
    "import dlt\n",
    "from pyspark.sql.functions import *"
   ]
  },
  {
   "cell_type": "code",
   "execution_count": 0,
   "metadata": {
    "application/vnd.databricks.v1+cell": {
     "cellMetadata": {},
     "inputWidgets": {},
     "nuid": "9c31ea00-d0c3-4f22-a19c-c84a4397a580",
     "showTitle": false,
     "tableResultSettingsMap": {},
     "title": ""
    }
   },
   "outputs": [],
   "source": [
    "input_path = \"/Volumes/well_logs_nrt/landing/json_files_volume/\"\n",
    "schema_path = \"/Volumes/well_logs_nrt/autoloader/schemas_volume/all_wells_schema\"\n",
    "\n",
    "@dlt.table(\n",
    "    name = \"all_wells_bronze\",\n",
    "    comment = \"Table that contains all wells in bronze layer\",\n",
    "    table_properties = {\"layer\" : \"bronze\", \"type\" : \"well log\"}\n",
    ")\n",
    "\n",
    "def all_wells_bronze():\n",
    "  return (\n",
    "    spark.readStream.format(\"cloudFiles\")\n",
    "    .option(\"cloudFiles.format\", \"json\")\n",
    "    .option(\"cloudFiles.inferColumnTypes\", \"true\")\n",
    "    .option(\"cloudFiles.schemaLocation\", schema_path)\n",
    "    .option(\"cloudFiles.schemaEvolutionMode\", \"addNewColumns\") # In case that appears new columns in the log\n",
    "    # .option(\"multiLine\", \"true\")                             # Enable it if your JSON are multiline\n",
    "    # .option(\"rescuedDataColumn\", \"_rescued_data\")            # Unnecessary: exists by default. Only if I want to rename it.\n",
    "    # .option(\"cloudFiles.includeExistingFiles\", \"true\")       # 1st boot ingers historical. I use it only if \"false\"\n",
    "    .load(input_path)\n",
    "    .withColumn(\"bronze_ingestion_time\", current_timestamp())\n",
    "    .withColumn(\"file_mod_time\", col(\"_metadata.file_modification_time\"))  # útil p/ auditoría\n",
    "  )"
   ]
  }
 ],
 "metadata": {
  "application/vnd.databricks.v1+notebook": {
   "computePreferences": null,
   "dashboards": [],
   "environmentMetadata": {
    "base_environment": "",
    "environment_version": "2"
   },
   "inputWidgetPreferences": null,
   "language": "python",
   "notebookMetadata": {
    "mostRecentlyExecutedCommandWithImplicitDF": {
     "commandId": 3294057668074998,
     "dataframes": [
      "_sqldf"
     ]
    },
    "pythonIndentUnit": 4
   },
   "notebookName": "1.landing_dlt",
   "widgets": {}
  },
  "language_info": {
   "name": "python"
  }
 },
 "nbformat": 4,
 "nbformat_minor": 0
}
