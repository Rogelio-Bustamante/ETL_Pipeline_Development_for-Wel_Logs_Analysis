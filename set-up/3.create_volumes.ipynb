{
 "cells": [
  {
   "cell_type": "code",
   "execution_count": 0,
   "metadata": {
    "application/vnd.databricks.v1+cell": {
     "cellMetadata": {
      "byteLimit": 2048000,
      "rowLimit": 10000
     },
     "inputWidgets": {},
     "nuid": "b346ead0-76f7-4339-87d9-0f1e83623b0a",
     "showTitle": false,
     "tableResultSettingsMap": {},
     "title": ""
    }
   },
   "outputs": [],
   "source": [
    "USE CATALOG well_logs_nrt;\n",
    "USE SCHEMA landing;\n",
    "\n",
    "CREATE EXTERNAL VOLUME IF NOT EXISTS well_logs_nrt.landing.json_files_volume\n",
    "LOCATION 'abfss://landing@secondprojectdlucext.dfs.core.windows.net/raw_json_files';\n",
    "\n",
    "CREATE EXTERNAL VOLUME IF NOT EXISTS well_logs_nrt.autoloader.schemas_volume\n",
    "LOCATION 'abfss://autoloader@secondprojectdlucext.dfs.core.windows.net/schemas';\n",
    "\n",
    "CREATE EXTERNAL VOLUME IF NOT EXISTS well_logs_nrt.autoloader.checkpoints_volume\n",
    "LOCATION 'abfss://autoloader@secondprojectdlucext.dfs.core.windows.net/checkpoints';\n",
    "\n",
    "CREATE EXTERNAL VOLUME IF NOT EXISTS well_logs_nrt.bronze.deltalake_folders_volume\n",
    "LOCATION 'abfss://bronze@secondprojectdlucext.dfs.core.windows.net/deltalake_folders_volume';\n",
    "\n",
    "CREATE EXTERNAL VOLUME IF NOT EXISTS well_logs_nrt.silver.deltalake_folders_volume\n",
    "LOCATION 'abfss://silver@secondprojectdlucext.dfs.core.windows.net/deltalake_folders_volume';\n",
    "\n",
    "CREATE EXTERNAL VOLUME IF NOT EXISTS well_logs_nrt.gold.deltalake_folders_volume\n",
    "LOCATION 'abfss://gold@secondprojectdlucext.dfs.core.windows.net/deltalake_folders_volume';"
   ]
  }
 ],
 "metadata": {
  "application/vnd.databricks.v1+notebook": {
   "computePreferences": null,
   "dashboards": [],
   "environmentMetadata": {
    "base_environment": "",
    "environment_version": "2"
   },
   "inputWidgetPreferences": null,
   "language": "sql",
   "notebookMetadata": {
    "pythonIndentUnit": 4
   },
   "notebookName": "3.create_volumes",
   "widgets": {}
  },
  "language_info": {
   "name": "sql"
  }
 },
 "nbformat": 4,
 "nbformat_minor": 0
}
